{
 "cells": [
  {
   "cell_type": "markdown",
   "metadata": {},
   "source": [
    "# Обработка данных"
   ]
  },
  {
   "cell_type": "code",
   "execution_count": 1,
   "metadata": {},
   "outputs": [],
   "source": [
    "import pandas as pd\n",
    "from nltk.corpus import stopwords\n",
    "#import pymorphy2\n",
    "from string import punctuation\n",
    "import re"
   ]
  },
  {
   "cell_type": "markdown",
   "metadata": {},
   "source": [
    "## Функция preprocess_text оставляет только русские буквы, лемматизирует"
   ]
  },
  {
   "cell_type": "code",
   "execution_count": 6,
   "metadata": {},
   "outputs": [],
   "source": [
    "def preprocess_text(text,stopwords,decoding=True):\n",
    "    ## Загружаем стоп-слова и библиотеку pymorphy для лемматизации\n",
    "    # к нижнему регистру\n",
    "    text = text.lower()\n",
    "    #morph = pymorphy2.MorphAnalyzer()\n",
    "    morph=load_morph\n",
    "    # оставляем в предложении только русские буквы (таким образом\n",
    "    # удалим и ссылки, и имена пользователей, и пунктуацию и т.д.)\n",
    "    \n",
    "    \n",
    "    regexp = re.compile(u'[^а-яА-Я-]')\n",
    "    if decoding:\n",
    "        text=text.decode('utf-8')\n",
    "        #stopwords=[stopword.decode('utf-8') for stopword in stopwords]\n",
    "    text=re.sub(regexp, ' ', text)\n",
    "        \n",
    "    result = []\n",
    "    for word in text.split():\n",
    "        # лемматизируем\n",
    "        result.append(morph.parse(word)[0].normal_form)\n",
    "    \n",
    "    result=[token for token in result if token not in stopwords]    \n",
    "        \n",
    "                              \n",
    "    return ' '.join(result)"
   ]
  },
  {
   "cell_type": "code",
   "execution_count": 7,
   "metadata": {},
   "outputs": [
    {
     "name": "stdout",
     "output_type": "stream",
     "text": [
      "это помнить памятный дата разносить цирк сахарный вата\n",
      "Wall time: 8 ms\n"
     ]
    }
   ],
   "source": [
    "%%time\n",
    "print preprocess_text('Это 008 помним памятную дату мы вас разносим будто в цирке сахарную вату',stopwords.words('russian'))"
   ]
  },
  {
   "cell_type": "code",
   "execution_count": 4,
   "metadata": {},
   "outputs": [],
   "source": [
    "morph = pymorphy2.MorphAnalyzer()\n",
    "import cPickle\n",
    "# save the classifier\n",
    "with open('morph.pkl', 'wb') as fid:\n",
    "    cPickle.dump(morph, fid) "
   ]
  },
  {
   "cell_type": "code",
   "execution_count": 5,
   "metadata": {},
   "outputs": [],
   "source": [
    "import cPickle\n",
    "with open('morph.pkl', 'rb') as fid:\n",
    "        load_morph = cPickle.load(fid)"
   ]
  },
  {
   "cell_type": "markdown",
   "metadata": {},
   "source": [
    "## функция DFToPreprocessedCSV обрабатывает DataFrame и сохраняет его в CSV файл"
   ]
  },
  {
   "cell_type": "code",
   "execution_count": 113,
   "metadata": {},
   "outputs": [],
   "source": [
    "def DFToPreprocessedCSV(file_name,DataFrame,ReviewName='Review',RatingName='Rating'):\n",
    "    ## загрузка стоп-слов\n",
    "    stop_words=stopwords.words('russian')\n",
    "    stop_words.remove(u'хорошо')\n",
    "    stop_words.remove(u'никогда')\n",
    "    with open(file_name,'a') as file:\n",
    "        for i,sentence in enumerate(DataFrame[ReviewName]):\n",
    "            file.write(preprocess_text(sentence,stop_words).encode('utf-8')+','+str(DataFrame[RatingName][i]))\n",
    "            file.write('\\n')\n",
    "            if i%100 == 0:\n",
    "                print i, 'reviews is processed'    "
   ]
  },
  {
   "cell_type": "markdown",
   "metadata": {},
   "source": [
    "## Данные для данной задачи я спарсил с сайта рекомендаций irecommend.ru\n",
    "### При помощи библиотек requests и beautifull Soup"
   ]
  },
  {
   "cell_type": "code",
   "execution_count": null,
   "metadata": {},
   "outputs": [],
   "source": [
    "df=pd.read_csv('goods.csv')"
   ]
  },
  {
   "cell_type": "code",
   "execution_count": null,
   "metadata": {},
   "outputs": [],
   "source": [
    "df=df.dropna()\n",
    "df=df.reset_index(drop=True)\n",
    "df.head()"
   ]
  },
  {
   "cell_type": "code",
   "execution_count": null,
   "metadata": {},
   "outputs": [],
   "source": [
    "DFToPreprocessedCSV('clean_goods',df)"
   ]
  }
 ],
 "metadata": {
  "kernelspec": {
   "display_name": "Python 2",
   "language": "python",
   "name": "python2"
  },
  "language_info": {
   "codemirror_mode": {
    "name": "ipython",
    "version": 2
   },
   "file_extension": ".py",
   "mimetype": "text/x-python",
   "name": "python",
   "nbconvert_exporter": "python",
   "pygments_lexer": "ipython2",
   "version": "2.7.15"
  }
 },
 "nbformat": 4,
 "nbformat_minor": 2
}
